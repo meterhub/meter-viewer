version https://git-lfs.github.com/spec/v1
oid sha256:2c78139703dc72a4bee529bcd0234b327b32b28e47ca54b740d2818aae49b856
size 268219
