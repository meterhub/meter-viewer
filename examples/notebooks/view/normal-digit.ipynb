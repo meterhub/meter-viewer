version https://git-lfs.github.com/spec/v1
oid sha256:ef65203039d30b723a65f2abbe7eb7b8e78effd03eee67bb1ea54b11f9ded5c2
size 34031
