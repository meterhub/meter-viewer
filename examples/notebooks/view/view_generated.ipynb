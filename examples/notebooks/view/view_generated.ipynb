version https://git-lfs.github.com/spec/v1
oid sha256:1ec25e84ffe92359c2712c88ae20676b7db726b1065c1b6a58a07eee000e1947
size 75734
