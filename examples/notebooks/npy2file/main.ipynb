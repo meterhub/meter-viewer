{
 "cells": [
  {
   "cell_type": "markdown",
   "metadata": {},
   "source": [
    "# npy file to normal image file."
   ]
  },
  {
   "cell_type": "markdown",
   "metadata": {},
   "source": []
  },
  {
   "cell_type": "code",
   "execution_count": 5,
   "metadata": {},
   "outputs": [],
   "source": [
    "import pathlib\n",
    "import numpy as np\n",
    "from PIL import Image\n",
    "\n",
    "\n",
    "def change_img_value(img: np.ndarray) -> np.ndarray:\n",
    "    if img.all() < 1:\n",
    "        return img * 255\n",
    "    return img\n",
    "\n",
    "\n",
    "def extract(dataset: pathlib.Path, indexs: list[int], output: pathlib.Path):\n",
    "    data = np.load(dataset)\n",
    "    for index in indexs:\n",
    "        img = data[index]\n",
    "        img = change_img_value(img)\n",
    "        img = Image.fromarray(img)\n",
    "        img.save(output / f\"{index}.jpg\")"
   ]
  },
  {
   "cell_type": "code",
   "execution_count": 6,
   "metadata": {},
   "outputs": [],
   "source": [
    "dataset = pathlib.Path(\n",
    "    \"/home/xiuhao/work/Dataset/luojianxun/GraduationDesign/pytorch/data/last_data/x_train.npy\"\n",
    ")\n",
    "output = pathlib.Path(\n",
    "    \"/home/xiuhao/work/Dataset/luojianxun/GraduationDesign/pytorch/data/last_data/images\"\n",
    ")\n",
    "output.mkdir(exist_ok=True)\n",
    "extract(dataset, indexs=[1, 2, 3], output=output)"
   ]
  },
  {
   "cell_type": "code",
   "execution_count": 7,
   "metadata": {},
   "outputs": [
    {
     "data": {
      "text/plain": [
       "['1.jpg', '2.jpg', '3.jpg']"
      ]
     },
     "execution_count": 7,
     "metadata": {},
     "output_type": "execute_result"
    }
   ],
   "source": [
    "import os\n",
    "\n",
    "os.listdir(output)"
   ]
  },
  {
   "cell_type": "code",
   "execution_count": null,
   "metadata": {},
   "outputs": [],
   "source": []
  }
 ],
 "metadata": {
  "kernelspec": {
   "display_name": ".venv",
   "language": "python",
   "name": "python3"
  },
  "language_info": {
   "codemirror_mode": {
    "name": "ipython",
    "version": 3
   },
   "file_extension": ".py",
   "mimetype": "text/x-python",
   "name": "python",
   "nbconvert_exporter": "python",
   "pygments_lexer": "ipython3",
   "version": "3.9.19"
  }
 },
 "nbformat": 4,
 "nbformat_minor": 2
}
