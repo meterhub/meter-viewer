version https://git-lfs.github.com/spec/v1
oid sha256:a314fffc1aa9c8f6c01c4ff475c5a1b9fc9ffa3374a2fcca5d18cce4fad58a8e
size 56610
