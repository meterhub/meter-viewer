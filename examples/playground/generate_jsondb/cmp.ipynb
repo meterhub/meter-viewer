{
 "cells": [
  {
   "cell_type": "code",
   "execution_count": 3,
   "metadata": {},
   "outputs": [
    {
     "name": "stdout",
     "output_type": "stream",
     "text": [
      "./meterdb_train.json size: 1.21M, meterdb_2025-01-09_12-38-14/meterdb_train.json size: 1.81M\n",
      "./meterdb_test.json size: 2.57M, meterdb_2025-01-09_12-38-14/meterdb_test.json size: 3.48M\n"
     ]
    },
    {
     "data": {
      "text/plain": [
       "False"
      ]
     },
     "execution_count": 3,
     "metadata": {},
     "output_type": "execute_result"
    }
   ],
   "source": [
    "import os\n",
    "from genlog import get_latest_name\n",
    "\n",
    "# 读取文件的大小并且比较\n",
    "def cmp_file_size(file1, file2):\n",
    "  size1 = os.path.getsize(file1)\n",
    "  size2 = os.path.getsize(file2)\n",
    "  print(f'{file1} size: {size1/1024/1024:.2f}M, {file2} size: {size2/1024/1024:.2f}M')\n",
    "  return size1 == size2\n",
    "\n",
    "\n",
    "folder = get_latest_name()\n",
    "if folder is None:\n",
    "  print(\"No folder found\")\n",
    "  exit()\n",
    "\n",
    "cmp_file_size(\"./meterdb_train.json\", f\"{folder}/meterdb_train.json\")\n",
    "cmp_file_size(\"./meterdb_test.json\", f\"{folder}/meterdb_test.json\")\n",
    "\n",
    "\n"
   ]
  },
  {
   "cell_type": "code",
   "execution_count": null,
   "metadata": {},
   "outputs": [],
   "source": []
  }
 ],
 "metadata": {
  "kernelspec": {
   "display_name": ".venv",
   "language": "python",
   "name": "python3"
  },
  "language_info": {
   "codemirror_mode": {
    "name": "ipython",
    "version": 3
   },
   "file_extension": ".py",
   "mimetype": "text/x-python",
   "name": "python",
   "nbconvert_exporter": "python",
   "pygments_lexer": "ipython3",
   "version": "3.11.5"
  }
 },
 "nbformat": 4,
 "nbformat_minor": 2
}
