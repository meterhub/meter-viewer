{
 "cells": [
  {
   "cell_type": "code",
   "execution_count": null,
   "metadata": {},
   "outputs": [],
   "source": [
    "import pathlib\n",
    "\n",
    "from meterviewer.generator.jsondb import gen_db\n",
    "\n",
    "if __name__ == \"__main__\":\n",
    "  for is_test in [True, False]:\n",
    "    name = \"test\" if is_test else \"train\"\n",
    "    gen_db(\n",
    "      infile=pathlib.Path(__file__).parent / \"config.toml\",\n",
    "      output=pathlib.Path(__file__).parent / f\"meterdb_{name}.json\",\n",
    "      is_test=is_test,\n",
    "    )\n",
    "\n"
   ]
  }
 ],
 "metadata": {
  "language_info": {
   "name": "python"
  }
 },
 "nbformat": 4,
 "nbformat_minor": 2
}
