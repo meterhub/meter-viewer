{
 "cells": [
  {
   "cell_type": "code",
   "execution_count": 4,
   "metadata": {},
   "outputs": [
    {
     "name": "stdout",
     "output_type": "stream",
     "text": [
      "no image found for dataset: M3L1X, []\n"
     ]
    }
   ],
   "source": [
    "import os\n",
    "from meterviewer.generator.jsondb import gen_db\n",
    "\n",
    "from datetime import datetime\n",
    "from genlog import new_log, write_log\n",
    "\n",
    "new_folder = f\"meterdb_{datetime.now().strftime('%Y-%m-%d_%H-%M-%S')}\"\n",
    "os.makedirs(new_folder, exist_ok=True)\n",
    "\n",
    "log = new_log(new_folder)\n",
    "\n",
    "for stage in [\"test\", \"train\"]:\n",
    "  gen_db(\n",
    "    infile=\"config.toml\",\n",
    "    output=f\"{new_folder}/meterdb_{stage}.json\",\n",
    "    stage=stage,\n",
    "  )\n",
    "\n",
    "write_log(log)"
   ]
  },
  {
   "cell_type": "code",
   "execution_count": null,
   "metadata": {},
   "outputs": [],
   "source": []
  }
 ],
 "metadata": {
  "kernelspec": {
   "display_name": ".venv",
   "language": "python",
   "name": "python3"
  },
  "language_info": {
   "codemirror_mode": {
    "name": "ipython",
    "version": 3
   },
   "file_extension": ".py",
   "mimetype": "text/x-python",
   "name": "python",
   "nbconvert_exporter": "python",
   "pygments_lexer": "ipython3",
   "version": "3.11.5"
  }
 },
 "nbformat": 4,
 "nbformat_minor": 2
}
