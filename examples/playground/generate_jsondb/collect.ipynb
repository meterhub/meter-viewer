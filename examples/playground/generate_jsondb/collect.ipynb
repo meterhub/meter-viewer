{
 "cells": [
  {
   "cell_type": "markdown",
   "metadata": {},
   "source": [
    "# 采集 5 位数据集"
   ]
  },
  {
   "cell_type": "code",
   "execution_count": 1,
   "metadata": {},
   "outputs": [
    {
     "name": "stdout",
     "output_type": "stream",
     "text": [
      "['M5L3XL', 'M5L4XL', 'M4L5XL', 'M5L16XL', 'M5L18XL', 'M5L14XL', 'M11L3XL', 'M11L4XL', 'M5L17XL', 'M5L12XL', 'M4L3XL', 'M5L15XL', '20181112xnd', 'M5L1XL', 'M4L2XL', 'M11L2XL', 'M5L11XL', 'M4L1XL', 'M5L13XL', 'M4L4XL', 'M5L2XL', 'neweyem11l1XL', 'M11L1XL', 'neweyem11l2XL', 'M11L5XL']\n"
     ]
    }
   ],
   "source": [
    "import pathlib\n",
    "from meterviewer.generator import jsondb\n",
    "\n",
    "jsondb.set_local_config(pathlib.Path(\"config.toml\"))\n",
    "\n",
    "# dir = jsondb.get_dataset_dir(5, is_test=True)\n",
    "\n",
    "def get_folders(dir: pathlib.Path):\n",
    "  folders = []\n",
    "  for folder in dir.iterdir():\n",
    "    if folder.is_dir():\n",
    "      folders.append(folder.name)\n",
    "  return folders\n",
    "\n",
    "print(get_folders(jsondb.get_dataset_dir(5, is_test=True)))"
   ]
  },
  {
   "cell_type": "code",
   "execution_count": 2,
   "metadata": {},
   "outputs": [
    {
     "name": "stdout",
     "output_type": "stream",
     "text": [
      "{'train': ['M11L5CS', 'M4L3CS', 'M5L13CS', 'M11L2CS', 'neweyem11l2CS', 'M5L14CS', 'M5L15CS', 'M4L1CS', 'M5L2CS', 'M5L4CS', 'M5L11CS', 'M11L4CS', 'M5L16CS', 'M5L1CS', 'M11L3CS', 'M5L12CS', 'M4L2CS', 'M11L1CS', 'M5L3CS', 'M4L5CS', 'neweyem11l1CS', 'M5L18CS', 'M4L4CS', 'M5L17CS'], 'test': ['M5L3XL', 'M5L4XL', 'M4L5XL', 'M5L16XL', 'M5L18XL', 'M5L14XL', 'M11L3XL', 'M11L4XL', 'M5L17XL', 'M5L12XL', 'M4L3XL', 'M5L15XL', '20181112xnd', 'M5L1XL', 'M4L2XL', 'M11L2XL', 'M5L11XL', 'M4L1XL', 'M5L13XL', 'M4L4XL', 'M5L2XL', 'neweyem11l1XL', 'M11L1XL', 'neweyem11l2XL', 'M11L5XL']}\n"
     ]
    }
   ],
   "source": [
    "data = {}\n",
    "for stage in [\"train\", \"test\"]:\n",
    "  dir = jsondb.get_dataset_dir(5, is_test=stage == \"test\")\n",
    "  folders = get_folders(dir)\n",
    "  data[stage] = folders\n",
    "\n",
    "print(data)\n"
   ]
  },
  {
   "cell_type": "code",
   "execution_count": 4,
   "metadata": {},
   "outputs": [],
   "source": [
    "import json\n",
    "with open(\"./mydata.json\", \"w\") as f:\n",
    "  json.dump(data, f)\n"
   ]
  },
  {
   "cell_type": "code",
   "execution_count": null,
   "metadata": {},
   "outputs": [],
   "source": []
  }
 ],
 "metadata": {
  "kernelspec": {
   "display_name": ".venv",
   "language": "python",
   "name": "python3"
  },
  "language_info": {
   "codemirror_mode": {
    "name": "ipython",
    "version": 3
   },
   "file_extension": ".py",
   "mimetype": "text/x-python",
   "name": "python",
   "nbconvert_exporter": "python",
   "pygments_lexer": "ipython3",
   "version": "3.11.5"
  }
 },
 "nbformat": 4,
 "nbformat_minor": 2
}
