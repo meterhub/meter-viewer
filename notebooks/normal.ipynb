{
 "cells": [
  {
   "cell_type": "code",
   "execution_count": 1,
   "id": "f4c7b521-e6b5-488a-8619-bf10a24f3495",
   "metadata": {},
   "outputs": [
    {
     "ename": "ModuleNotFoundError",
     "evalue": "No module named 'meterviewer'",
     "output_type": "error",
     "traceback": [
      "\u001b[1;31m---------------------------------------------------------------------------\u001b[0m",
      "\u001b[1;31mModuleNotFoundError\u001b[0m                       Traceback (most recent call last)",
      "Cell \u001b[1;32mIn[1], line 1\u001b[0m\n\u001b[1;32m----> 1\u001b[0m \u001b[38;5;28;01mfrom\u001b[39;00m \u001b[38;5;21;01mmeterviewer\u001b[39;00m \u001b[38;5;28;01mimport\u001b[39;00m dataset, files, types \u001b[38;5;28;01mas\u001b[39;00m T\n",
      "\u001b[1;31mModuleNotFoundError\u001b[0m: No module named 'meterviewer'"
     ]
    }
   ],
   "source": [
    "from meterviewer import dataset, files, types as T"
   ]
  },
  {
   "cell_type": "code",
   "execution_count": 2,
   "id": "f386d1cc-8757-4b0a-aada-a27e7c0ed5d7",
   "metadata": {},
   "outputs": [],
   "source": [
    "current_dataset = r\"D:\\Store\\MeterData\\lens_6\\XL\\merge_np\\Block\\Train\""
   ]
  },
  {
   "cell_type": "code",
   "execution_count": null,
   "id": "2250cb71-5d09-4dc5-9821-781cdd157840",
   "metadata": {},
   "outputs": [],
   "source": []
  }
 ],
 "metadata": {
  "kernelspec": {
   "display_name": "Python 3 (ipykernel)",
   "language": "python",
   "name": "python3"
  },
  "language_info": {
   "codemirror_mode": {
    "name": "ipython",
    "version": 3
   },
   "file_extension": ".py",
   "mimetype": "text/x-python",
   "name": "python",
   "nbconvert_exporter": "python",
   "pygments_lexer": "ipython3",
   "version": "3.12.1"
  }
 },
 "nbformat": 4,
 "nbformat_minor": 5
}
