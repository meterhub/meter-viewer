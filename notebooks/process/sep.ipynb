{
 "cells": [
  {
   "cell_type": "code",
   "execution_count": null,
   "metadata": {},
   "outputs": [],
   "source": [
    "# seperate dataset, split to train, test."
   ]
  },
  {
   "cell_type": "code",
   "execution_count": 5,
   "metadata": {},
   "outputs": [],
   "source": [
    "from meterviewer.config import get_root_path\n",
    "import numpy as np\n",
    "import random"
   ]
  },
  {
   "cell_type": "code",
   "execution_count": 15,
   "metadata": {},
   "outputs": [],
   "source": [
    "root_path = get_root_path()\n",
    "gen_folder = root_path / 'generated_merged'"
   ]
  },
  {
   "cell_type": "code",
   "execution_count": 16,
   "metadata": {},
   "outputs": [],
   "source": [
    "x_all = np.load(gen_folder / 'x_merged.npy')\n",
    "y_all = np.load(gen_folder / 'y_merged.npy')"
   ]
  },
  {
   "cell_type": "code",
   "execution_count": 11,
   "metadata": {},
   "outputs": [],
   "source": [
    "# check perm\n",
    "def test_perm():\n",
    "    permutation = np.random.permutation(100)\n",
    "    x = np.array([i for i in range(100)])\n",
    "    y = np.array([i for i in range(100)])\n",
    "    x = x[permutation]\n",
    "    y = y[permutation]\n",
    "\n",
    "    i = random.randint(0, 100)\n",
    "    assert x[i] == y[i]\n"
   ]
  },
  {
   "cell_type": "code",
   "execution_count": 17,
   "metadata": {},
   "outputs": [],
   "source": [
    "# shuffle x, y at the same time\n",
    "np.random.seed(0)\n",
    "permutation = np.random.permutation(x_all.shape[0])\n",
    "x_all = x_all[permutation]\n",
    "y_all = y_all[permutation]\n"
   ]
  },
  {
   "cell_type": "code",
   "execution_count": 18,
   "metadata": {},
   "outputs": [],
   "source": [
    "x_train = x_all[:int(x_all.shape[0] * 0.8)]\n",
    "x_test = x_all[int(x_all.shape[0] * 0.8):]\n",
    "y_train = y_all[:int(y_all.shape[0] * 0.8)]\n",
    "y_test = y_all[int(y_all.shape[0] * 0.8):]"
   ]
  },
  {
   "cell_type": "code",
   "execution_count": 19,
   "metadata": {},
   "outputs": [],
   "source": [
    "np.save(gen_folder / 'x_train.npy', x_train)\n",
    "np.save(gen_folder / 'x_test.npy', x_test)\n",
    "np.save(gen_folder / 'y_train.npy', y_train)\n",
    "np.save(gen_folder / 'y_test.npy', y_test)"
   ]
  },
  {
   "cell_type": "code",
   "execution_count": 21,
   "metadata": {},
   "outputs": [
    {
     "name": "stdout",
     "output_type": "stream",
     "text": [
      "x_train: (400000, 37, 297, 3)\n",
      "x_test: (100000, 37, 297, 3)\n"
     ]
    }
   ],
   "source": [
    "print('x_train:', x_train.shape)\n",
    "print('x_test:', x_test.shape)"
   ]
  },
  {
   "cell_type": "code",
   "execution_count": 26,
   "metadata": {},
   "outputs": [],
   "source": [
    "def show_img(i: int):\n",
    "    from matplotlib import pyplot as plt\n",
    "    plt.imshow(x_train[i])\n",
    "    print(y_train[i])"
   ]
  },
  {
   "cell_type": "code",
   "execution_count": null,
   "metadata": {},
   "outputs": [],
   "source": []
  }
 ],
 "metadata": {
  "kernelspec": {
   "display_name": ".venv",
   "language": "python",
   "name": "python3"
  },
  "language_info": {
   "codemirror_mode": {
    "name": "ipython",
    "version": 3
   },
   "file_extension": ".py",
   "mimetype": "text/x-python",
   "name": "python",
   "nbconvert_exporter": "python",
   "pygments_lexer": "ipython3",
   "version": "3.12.3"
  }
 },
 "nbformat": 4,
 "nbformat_minor": 2
}
