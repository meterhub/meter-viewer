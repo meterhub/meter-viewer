{
 "cells": [
  {
   "cell_type": "markdown",
   "id": "fc970951-0351-42f0-9723-418e6c54c9f9",
   "metadata": {},
   "source": [
    "# A Quick view of datasets"
   ]
  },
  {
   "cell_type": "code",
   "execution_count": 1,
   "id": "1d52f95d-0288-441d-9d64-f8ca0009d4e7",
   "metadata": {},
   "outputs": [],
   "source": [
    "from pathlib import Path as P\n",
    "from meterviewer.views.quick import fast_preview"
   ]
  },
  {
   "cell_type": "markdown",
   "id": "6445c710-2c23-4e97-b14d-f3e5fca2dc20",
   "metadata": {
    "jp-MarkdownHeadingCollapsed": true
   },
   "source": [
    "# Quick view of no-tilt-merge dataset\n",
    "\n",
    "under: HRC-mCNNs"
   ]
  },
  {
   "cell_type": "code",
   "execution_count": 2,
   "id": "7b557966-20d4-4540-9b61-fb44f3f56c95",
   "metadata": {},
   "outputs": [],
   "source": [
    "dataset = P('/Users/xiuhao/Work/Dataset/no_tilt_merge/block_Train')"
   ]
  },
  {
   "cell_type": "code",
   "execution_count": 3,
   "id": "4dda82b3-dc0c-4f5c-9d65-d06f43b7c346",
   "metadata": {
    "scrolled": true
   },
   "outputs": [
    {
     "ename": "Exception",
     "evalue": "No valid npy files found",
     "output_type": "error",
     "traceback": [
      "\u001b[0;31m---------------------------------------------------------------------------\u001b[0m",
      "\u001b[0;31mException\u001b[0m                                 Traceback (most recent call last)",
      "Cell \u001b[0;32mIn[3], line 1\u001b[0m\n\u001b[0;32m----> 1\u001b[0m \u001b[43mfast_preview\u001b[49m\u001b[43m(\u001b[49m\u001b[43mdataset\u001b[49m\u001b[43m)\u001b[49m\n",
      "File \u001b[0;32m~/Work/project/2024/meterhubv/meter-viewer/src/meterviewer/views/quick.py:35\u001b[0m, in \u001b[0;36mfast_preview\u001b[0;34m(current_dataset)\u001b[0m\n\u001b[1;32m     34\u001b[0m \u001b[38;5;28;01mdef\u001b[39;00m \u001b[38;5;21mfast_preview\u001b[39m(current_dataset: P):\n\u001b[0;32m---> 35\u001b[0m     \u001b[38;5;28;01mreturn\u001b[39;00m \u001b[43mmore_quick_view\u001b[49m\u001b[43m(\u001b[49m\u001b[43mcurrent_dataset\u001b[49m\u001b[43m)\u001b[49m\n",
      "File \u001b[0;32m~/Work/project/2024/meterhubv/meter-viewer/src/meterviewer/views/quick.py:12\u001b[0m, in \u001b[0;36mmore_quick_view\u001b[0;34m(current_dataset, write_config)\u001b[0m\n\u001b[1;32m      8\u001b[0m \u001b[38;5;28;01mdef\u001b[39;00m \u001b[38;5;21mmore_quick_view\u001b[39m(\n\u001b[1;32m      9\u001b[0m     current_dataset: P,\n\u001b[1;32m     10\u001b[0m     write_config\u001b[38;5;241m=\u001b[39m\u001b[38;5;28;01mTrue\u001b[39;00m,\n\u001b[1;32m     11\u001b[0m ):\n\u001b[0;32m---> 12\u001b[0m     name_func \u001b[38;5;241m=\u001b[39m \u001b[43mfiles\u001b[49m\u001b[38;5;241;43m.\u001b[39;49m\u001b[43muse_smart_name\u001b[49m\u001b[43m(\u001b[49m\u001b[43mcurrent_dataset\u001b[49m\u001b[43m)\u001b[49m\n\u001b[1;32m     13\u001b[0m     \u001b[38;5;28;01mreturn\u001b[39;00m quick_view(\u001b[38;5;28mstr\u001b[39m(current_dataset), name_func, write_config)\n",
      "File \u001b[0;32m~/Work/project/2024/meterhubv/meter-viewer/src/meterviewer/files.py:22\u001b[0m, in \u001b[0;36muse_smart_name\u001b[0;34m(dataset)\u001b[0m\n\u001b[1;32m     20\u001b[0m         \u001b[38;5;28;01mreturn\u001b[39;00m get_x_y\n\u001b[1;32m     21\u001b[0m \u001b[38;5;28;01melse\u001b[39;00m:\n\u001b[0;32m---> 22\u001b[0m     \u001b[38;5;28;01mraise\u001b[39;00m \u001b[38;5;167;01mException\u001b[39;00m(\u001b[38;5;124m\"\u001b[39m\u001b[38;5;124mNo valid npy files found\u001b[39m\u001b[38;5;124m\"\u001b[39m)\n",
      "\u001b[0;31mException\u001b[0m: No valid npy files found"
     ]
    }
   ],
   "source": [
    "fast_preview(dataset)"
   ]
  },
  {
   "cell_type": "markdown",
   "id": "ac3c6330-d181-4193-8be1-730324ab4cd1",
   "metadata": {},
   "source": [
    "# Quick view of whole-img"
   ]
  },
  {
   "cell_type": "code",
   "execution_count": null,
   "id": "75831a2d-011f-47b6-a870-82875ace0f11",
   "metadata": {},
   "outputs": [],
   "source": [
    "dataset = P('/Users/xiuhao/Work/Dataset/whole_img/numpy')"
   ]
  },
  {
   "cell_type": "code",
   "execution_count": null,
   "id": "4ab8a2af-9db0-4a25-9816-30c54db73755",
   "metadata": {
    "scrolled": true
   },
   "outputs": [],
   "source": [
    "fast_preview(dataset)"
   ]
  },
  {
   "cell_type": "code",
   "execution_count": null,
   "id": "d17e89ba-9712-4eef-82d9-915a7bdb7143",
   "metadata": {
    "scrolled": true
   },
   "outputs": [],
   "source": [
    "def gen_dataset():\n",
    "    previous = P(\"/Users/xiuhao/Work/Dataset/training_hm/data/num_digit_block/\")\n",
    "    numlist = ['1', '2', '3']\n",
    "    for num in numlist:\n",
    "        dataset = previous / num\n",
    "        print('dataset: ', dataset)\n",
    "        x, y = fast_preview(dataset)\n",
    "\n",
    "gen_dataset()"
   ]
  },
  {
   "cell_type": "code",
   "execution_count": null,
   "id": "857c3432-146b-4d6d-ac6a-7c108329c99b",
   "metadata": {
    "scrolled": true
   },
   "outputs": [],
   "source": [
    "dataset = P(\"/Users/xiuhao/Work/Dataset/training_hm/valid_train/data/valid_lcd\")\n",
    "x, y = fast_preview(dataset)"
   ]
  },
  {
   "cell_type": "code",
   "execution_count": null,
   "id": "590b94c8-5dac-44ca-9591-9140077fa947",
   "metadata": {
    "scrolled": true
   },
   "outputs": [],
   "source": [
    "dataset = P(\"/Users/xiuhao/Work/Dataset/training_hm/data/mapan_led_merge\")\n",
    "x, y = fast_preview(dataset)"
   ]
  },
  {
   "cell_type": "code",
   "execution_count": null,
   "id": "654e1393-b75f-4121-9f4c-40e62b4f2845",
   "metadata": {
    "scrolled": true
   },
   "outputs": [],
   "source": [
    "dataset = P(\"/Users/xiuhao/Work/Dataset/training_hm/data/new_data_new\")\n",
    "x, y = fast_preview(dataset)"
   ]
  },
  {
   "cell_type": "markdown",
   "id": "dd0d7e50-4082-4361-b881-c2202f49cf75",
   "metadata": {
    "jp-MarkdownHeadingCollapsed": true
   },
   "source": [
    "# Test already processed dataset\n",
    "\n",
    "- dataset name: `M1L3XL`"
   ]
  },
  {
   "cell_type": "code",
   "execution_count": null,
   "id": "13558d05-ea79-44cc-a38a-484f8872a1e8",
   "metadata": {
    "scrolled": true
   },
   "outputs": [],
   "source": [
    "dataset = P(\"/home/svtter/Work/Dataset/MeterData/lens_6/XL/XL/M1L3XL/coor_all_img_np\")\n",
    "x, y = fast_preview(dataset)"
   ]
  },
  {
   "cell_type": "code",
   "execution_count": null,
   "id": "b2114f6a-e3d6-4e77-a279-b51487d2f869",
   "metadata": {},
   "outputs": [],
   "source": [
    "def more_faster(dataset):\n",
    "    x, y = fast_preview(dataset)"
   ]
  },
  {
   "cell_type": "code",
   "execution_count": null,
   "id": "f8c06f5a-9909-470e-bb23-7e8b655d5dfe",
   "metadata": {
    "scrolled": true
   },
   "outputs": [],
   "source": [
    "more_faster(\"/home/svtter/Work/Dataset/MeterData/lens_6/XL/XL/M1L3XL/Numpy_block_zoom\")"
   ]
  },
  {
   "cell_type": "markdown",
   "id": "135b9ccb-e016-42a4-a024-f3be2a928bb8",
   "metadata": {
    "jp-MarkdownHeadingCollapsed": true
   },
   "source": [
    "# Try domain training validator\n",
    "\n",
    "two dataset of images."
   ]
  },
  {
   "cell_type": "code",
   "execution_count": null,
   "id": "5cacfa17-e169-40f3-bcee-de169cb6cd72",
   "metadata": {
    "scrolled": true
   },
   "outputs": [],
   "source": [
    "more_faster(\"/home/svtter/Work/Dataset/MeterData/lens_6/CS/all_CS/M1L3CS/Numpy_seg\")"
   ]
  },
  {
   "cell_type": "code",
   "execution_count": null,
   "id": "7b395b08-4830-458f-822d-08c9b24693c3",
   "metadata": {
    "scrolled": true
   },
   "outputs": [],
   "source": [
    "more_faster(\"/home/svtter/Work/Dataset/MeterData/lens_6/CS/all_CS/M1L4CS/Numpy_seg\")"
   ]
  },
  {
   "cell_type": "code",
   "execution_count": null,
   "id": "6ad98ab8-4d6b-4522-aa9d-d08dbf551316",
   "metadata": {},
   "outputs": [],
   "source": []
  }
 ],
 "metadata": {
  "kernelspec": {
   "display_name": "Python 3 (ipykernel)",
   "language": "python",
   "name": "python3"
  },
  "language_info": {
   "codemirror_mode": {
    "name": "ipython",
    "version": 3
   },
   "file_extension": ".py",
   "mimetype": "text/x-python",
   "name": "python",
   "nbconvert_exporter": "python",
   "pygments_lexer": "ipython3",
   "version": "3.12.3"
  }
 },
 "nbformat": 4,
 "nbformat_minor": 5
}
